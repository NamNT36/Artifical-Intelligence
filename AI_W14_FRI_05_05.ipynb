{
  "nbformat": 4,
  "nbformat_minor": 0,
  "metadata": {
    "colab": {
      "provenance": [],
      "gpuType": "T4",
      "mount_file_id": "1p0jRImExDF55qtjS8YDlJqivAqbPwcYP",
      "authorship_tag": "ABX9TyPiO43+K/7nNS6Fohc5qAmD",
      "include_colab_link": true
    },
    "kernelspec": {
      "name": "python3",
      "display_name": "Python 3"
    },
    "language_info": {
      "name": "python"
    },
    "accelerator": "GPU",
    "gpuClass": "standard"
  },
  "cells": [
    {
      "cell_type": "markdown",
      "metadata": {
        "id": "view-in-github",
        "colab_type": "text"
      },
      "source": [
        "<a href=\"https://colab.research.google.com/github/NamNT36/Artifical-Intelligence/blob/main/AI_W14_FRI_05_05.ipynb\" target=\"_parent\"><img src=\"https://colab.research.google.com/assets/colab-badge.svg\" alt=\"Open In Colab\"/></a>"
      ]
    },
    {
      "cell_type": "code",
      "source": [
        "pip install youtube_search"
      ],
      "metadata": {
        "colab": {
          "base_uri": "https://localhost:8080/"
        },
        "id": "JXnsxvD6eL9z",
        "outputId": "97cb6d6a-44b3-4a8d-b4de-40d9455c39fb"
      },
      "execution_count": 2,
      "outputs": [
        {
          "output_type": "stream",
          "name": "stdout",
          "text": [
            "Looking in indexes: https://pypi.org/simple, https://us-python.pkg.dev/colab-wheels/public/simple/\n",
            "Collecting youtube_search\n",
            "  Downloading youtube_search-2.1.2-py3-none-any.whl (3.4 kB)\n",
            "Requirement already satisfied: requests in /usr/local/lib/python3.10/dist-packages (from youtube_search) (2.27.1)\n",
            "Requirement already satisfied: urllib3<1.27,>=1.21.1 in /usr/local/lib/python3.10/dist-packages (from requests->youtube_search) (1.26.15)\n",
            "Requirement already satisfied: charset-normalizer~=2.0.0 in /usr/local/lib/python3.10/dist-packages (from requests->youtube_search) (2.0.12)\n",
            "Requirement already satisfied: idna<4,>=2.5 in /usr/local/lib/python3.10/dist-packages (from requests->youtube_search) (3.4)\n",
            "Requirement already satisfied: certifi>=2017.4.17 in /usr/local/lib/python3.10/dist-packages (from requests->youtube_search) (2022.12.7)\n",
            "Installing collected packages: youtube_search\n",
            "Successfully installed youtube_search-2.1.2\n"
          ]
        }
      ]
    },
    {
      "cell_type": "code",
      "execution_count": 6,
      "metadata": {
        "colab": {
          "base_uri": "https://localhost:8080/"
        },
        "id": "4pVnL4XOd3R7",
        "outputId": "852d2a3f-52d9-45a3-d08d-a69b01713082"
      },
      "outputs": [
        {
          "output_type": "stream",
          "name": "stdout",
          "text": [
            "Nhập tên bài hát: Havana\n",
            "[{'id': 'HCjNJDNzw8Y', 'thumbnails': ['https://i.ytimg.com/vi/HCjNJDNzw8Y/hq720.jpg?sqp=-oaymwEjCOgCEMoBSFryq4qpAxUIARUAAAAAGAElAADIQj0AgKJDeAE=&rs=AOn4CLCWzBz04uNfB9AFp2xT-Ms6nGYD8w', 'https://i.ytimg.com/vi/HCjNJDNzw8Y/hq720.jpg?sqp=-oaymwEXCNAFEJQDSFryq4qpAwkIARUAAIhCGAE=&rs=AOn4CLBbbxO9BWjLBdb-m8td-O17VKRv3A'], 'title': 'Camila Cabello - Havana (Audio) ft. Young Thug', 'long_desc': None, 'channel': 'Camila Cabello', 'duration': '3:39', 'views': '1,942,739,904 views', 'publish_time': '5 years ago', 'url_suffix': '/watch?v=HCjNJDNzw8Y&pp=ygUGSGF2YW5h'}, {'id': 'BQ0mxQXmLsk', 'thumbnails': ['https://i.ytimg.com/vi/BQ0mxQXmLsk/hq720.jpg?sqp=-oaymwEjCOgCEMoBSFryq4qpAxUIARUAAAAAGAElAADIQj0AgKJDeAE=&rs=AOn4CLDUcH7KI-2bxsVwUYj0tCtTsod2JQ', 'https://i.ytimg.com/vi/BQ0mxQXmLsk/hq720.jpg?sqp=-oaymwEXCNAFEJQDSFryq4qpAwkIARUAAIhCGAE=&rs=AOn4CLCg5YjtKkltqlaRTYiY70_e_-ZkkQ'], 'title': 'Camila Cabello - Havana ft. Young Thug', 'long_desc': None, 'channel': 'Camila Cabello', 'duration': '6:43', 'views': '1,062,415,581 views', 'publish_time': '5 years ago', 'url_suffix': '/watch?v=BQ0mxQXmLsk&pp=ygUGSGF2YW5h'}, {'id': 'egtD5GfAh58', 'thumbnails': ['https://i.ytimg.com/vi/egtD5GfAh58/hq720.jpg?sqp=-oaymwEjCOgCEMoBSFryq4qpAxUIARUAAAAAGAElAADIQj0AgKJDeAE=&rs=AOn4CLBSrUOlRUmZMA3NRWH1xX26sVezDw', 'https://i.ytimg.com/vi/egtD5GfAh58/hq720.jpg?sqp=-oaymwEXCNAFEJQDSFryq4qpAwkIARUAAIhCGAE=&rs=AOn4CLBmcKwu7to9nmHTxAYzlkc5YOomfw'], 'title': 'Camila Cabello - Havana (Lyrics) ft. Young Thug', 'long_desc': None, 'channel': '7clouds', 'duration': '3:33', 'views': '106,163,066 views', 'publish_time': '3 years ago', 'url_suffix': '/watch?v=egtD5GfAh58&pp=ygUGSGF2YW5h'}, {'id': '0gNAU0_0dMM', 'thumbnails': ['https://i.ytimg.com/vi/0gNAU0_0dMM/hqdefault.jpg?sqp=-oaymwE9COADEI4CSFryq4qpAy8IARUAAAAAGAElAADIQj0AgKJDeAHwAQH4Af4EgALoAooCDAgAEAEYZSBRKFQwDw==&rs=AOn4CLCLPoH-_aQs15eL9ZSsNn2tYcaR3g'], 'title': 'CamilaCabello Greatest Hits Full Album 2021 | CamilaCabello Best Songs Playlist 2021', 'long_desc': None, 'channel': 'Music Chill', 'duration': '1:52:30', 'views': '776,220 views', 'publish_time': '1 year ago', 'url_suffix': '/watch?v=0gNAU0_0dMM&pp=ygUGSGF2YW5h'}, {'id': 'GsIxQwxuWSQ', 'thumbnails': ['https://i.ytimg.com/vi/GsIxQwxuWSQ/hq720.jpg?sqp=-oaymwEjCOgCEMoBSFryq4qpAxUIARUAAAAAGAElAADIQj0AgKJDeAE=&rs=AOn4CLCed6NA_2YMg5WIwXw9OctYU2dG-Q', 'https://i.ytimg.com/vi/GsIxQwxuWSQ/hq720.jpg?sqp=-oaymwEXCNAFEJQDSFryq4qpAwkIARUAAIhCGAE=&rs=AOn4CLCjeshJUWFa894TQQk_JqycSR9YKg'], 'title': '2 Gringos Infiltrate Havana, Cuba 🇨🇺', 'long_desc': None, 'channel': 'Kurt Caz', 'duration': '49:29', 'views': '481,350 views', 'publish_time': '3 days ago', 'url_suffix': '/watch?v=GsIxQwxuWSQ&pp=ygUGSGF2YW5h'}, {'id': 'Cl2kZmGVbyY', 'thumbnails': ['https://i.ytimg.com/vi/Cl2kZmGVbyY/hq720.jpg?sqp=-oaymwEjCOgCEMoBSFryq4qpAxUIARUAAAAAGAElAADIQj0AgKJDeAE=&rs=AOn4CLBiWMsTRj_cZyU_y6sbKZj_BDmG-Q', 'https://i.ytimg.com/vi/Cl2kZmGVbyY/hq720.jpg?sqp=-oaymwEXCNAFEJQDSFryq4qpAwkIARUAAIhCGAE=&rs=AOn4CLCWdFbWcRi7WQG_CfbpjpO86JpZZQ'], 'title': 'HAVANA feat. Yaar - I lost you (Official Video)', 'long_desc': None, 'channel': 'Cat Music', 'duration': '3:52', 'views': '135,036,423 views', 'publish_time': '4 years ago', 'url_suffix': '/watch?v=Cl2kZmGVbyY&pp=ygUGSGF2YW5h'}, {'id': '7KF8J3z4enY', 'thumbnails': ['https://i.ytimg.com/vi/7KF8J3z4enY/hq720.jpg?sqp=-oaymwEjCOgCEMoBSFryq4qpAxUIARUAAAAAGAElAADIQj0AgKJDeAE=&rs=AOn4CLCGCwM-WcSP1zhyEF6nwKfQN_TPQQ', 'https://i.ytimg.com/vi/7KF8J3z4enY/hq720.jpg?sqp=-oaymwEXCNAFEJQDSFryq4qpAwkIARUAAIhCGAE=&rs=AOn4CLBqT98IzvUGqr1o3uVmxdrhGL4cqA'], 'title': 'Havana (LIVE at the 61st GRAMMYs)', 'long_desc': None, 'channel': 'Camila Cabello', 'duration': '4:52', 'views': '41,362,269 views', 'publish_time': '4 years ago', 'url_suffix': '/watch?v=7KF8J3z4enY&pp=ygUGSGF2YW5h'}, {'id': 'NAXTo7PRA2Y', 'thumbnails': ['https://i.ytimg.com/vi/NAXTo7PRA2Y/hq720.jpg?sqp=-oaymwE9COgCEMoBSFryq4qpAy8IARUAAAAAGAElAADIQj0AgKJDeAHwAQH4Af4JgALQBYoCDAgAEAEYfyBBKDEwDw==&rs=AOn4CLB6OjQ5_EvPG12n5TQ0m_NSLDaJjA', 'https://i.ytimg.com/vi/NAXTo7PRA2Y/hq720.jpg?sqp=-oaymwExCNAFEJQDSFryq4qpAyMIARUAAIhCGAHwAQH4Af4JgALQBYoCDAgAEAEYfyBBKDEwDw==&rs=AOn4CLCejvW431RmI6sc0dIliYYaGfdFRQ'], 'title': 'Havana feat. Yaar  - I Lost You (Official Video)', 'long_desc': None, 'channel': 'HAVANA OFFICIAL', 'duration': '3:44', 'views': '21,930,011 views', 'publish_time': '3 years ago', 'url_suffix': '/watch?v=NAXTo7PRA2Y&pp=ygUGSGF2YW5h'}, {'id': 'GfNbEZQUvIw', 'thumbnails': ['https://i.ytimg.com/vi/GfNbEZQUvIw/hq720.jpg?sqp=-oaymwEjCOgCEMoBSFryq4qpAxUIARUAAAAAGAElAADIQj0AgKJDeAE=&rs=AOn4CLBV0JQwggJERQGT-Go308mnJOaRBw', 'https://i.ytimg.com/vi/GfNbEZQUvIw/hq720.jpg?sqp=-oaymwEXCNAFEJQDSFryq4qpAwkIARUAAIhCGAE=&rs=AOn4CLB3bM6oTJBP107M-IfFvx5L4zeFKA'], 'title': 'Camila Cabello - Havana (Lyrics) ft. Young Thug', 'long_desc': None, 'channel': 'Accelerate', 'duration': '3:40', 'views': '1,460,366 views', 'publish_time': '1 month ago', 'url_suffix': '/watch?v=GfNbEZQUvIw&pp=ygUGSGF2YW5h'}, {'id': 'X9-gDQgbBdI', 'thumbnails': ['https://i.ytimg.com/vi/X9-gDQgbBdI/hq720.jpg?sqp=-oaymwEjCOgCEMoBSFryq4qpAxUIARUAAAAAGAElAADIQj0AgKJDeAE=&rs=AOn4CLD030Ez2quiza8p7RA1lYjpQxie4A', 'https://i.ytimg.com/vi/X9-gDQgbBdI/hq720.jpg?sqp=-oaymwEXCNAFEJQDSFryq4qpAwkIARUAAIhCGAE=&rs=AOn4CLAC_iY258fuO2CE9io9Y_p2k6c91g'], 'title': 'Havana feat. Yaar & Kaiia -  Last Night (Official Video)', 'long_desc': None, 'channel': 'HAVANA OFFICIAL', 'duration': '3:36', 'views': '5,344,885 views', 'publish_time': '2 years ago', 'url_suffix': '/watch?v=X9-gDQgbBdI&pp=ygUGSGF2YW5h'}]\n"
          ]
        }
      ],
      "source": [
        "from youtube_search import YoutubeSearch\n",
        "import webbrowser\n",
        "\n",
        "mysong = input('Nhập tên bài hát: ')  #tên bài hát\n",
        "result = YoutubeSearch(mysong, max_results = 10).to_dict()\n",
        "print(result)"
      ]
    },
    {
      "cell_type": "code",
      "source": [
        "print(result[0]['url_suffix'])\n",
        "url = 'http://www.youtube.com' + result[0]['url_suffix']\n",
        "print(url)"
      ],
      "metadata": {
        "colab": {
          "base_uri": "https://localhost:8080/"
        },
        "id": "PYmu55IReY0I",
        "outputId": "36ad7481-95c6-4f99-b667-109708a261d9"
      },
      "execution_count": 7,
      "outputs": [
        {
          "output_type": "stream",
          "name": "stdout",
          "text": [
            "/watch?v=HCjNJDNzw8Y&pp=ygUGSGF2YW5h\n",
            "http://www.youtube.com/watch?v=HCjNJDNzw8Y&pp=ygUGSGF2YW5h\n"
          ]
        }
      ]
    },
    {
      "cell_type": "code",
      "source": [
        "#webbrowser.open(url): mở đường dẫn trên máy tính"
      ],
      "metadata": {
        "id": "dgtdA9vGfmps"
      },
      "execution_count": 8,
      "outputs": []
    },
    {
      "cell_type": "code",
      "source": [
        "pip install SpeechRecognition pydub"
      ],
      "metadata": {
        "colab": {
          "base_uri": "https://localhost:8080/"
        },
        "id": "MGBQuOx2fyJW",
        "outputId": "b0513fc9-607e-45c1-e1af-c2ab2a875cde"
      },
      "execution_count": 2,
      "outputs": [
        {
          "output_type": "stream",
          "name": "stdout",
          "text": [
            "Looking in indexes: https://pypi.org/simple, https://us-python.pkg.dev/colab-wheels/public/simple/\n",
            "Collecting SpeechRecognition\n",
            "  Downloading SpeechRecognition-3.10.0-py2.py3-none-any.whl (32.8 MB)\n",
            "\u001b[2K     \u001b[90m━━━━━━━━━━━━━━━━━━━━━━━━━━━━━━━━━━━━━━━━\u001b[0m \u001b[32m32.8/32.8 MB\u001b[0m \u001b[31m47.0 MB/s\u001b[0m eta \u001b[36m0:00:00\u001b[0m\n",
            "\u001b[?25hCollecting pydub\n",
            "  Downloading pydub-0.25.1-py2.py3-none-any.whl (32 kB)\n",
            "Requirement already satisfied: requests>=2.26.0 in /usr/local/lib/python3.9/dist-packages (from SpeechRecognition) (2.27.1)\n",
            "Requirement already satisfied: idna<4,>=2.5 in /usr/local/lib/python3.9/dist-packages (from requests>=2.26.0->SpeechRecognition) (3.4)\n",
            "Requirement already satisfied: certifi>=2017.4.17 in /usr/local/lib/python3.9/dist-packages (from requests>=2.26.0->SpeechRecognition) (2022.12.7)\n",
            "Requirement already satisfied: urllib3<1.27,>=1.21.1 in /usr/local/lib/python3.9/dist-packages (from requests>=2.26.0->SpeechRecognition) (1.26.15)\n",
            "Requirement already satisfied: charset-normalizer~=2.0.0 in /usr/local/lib/python3.9/dist-packages (from requests>=2.26.0->SpeechRecognition) (2.0.12)\n",
            "Installing collected packages: pydub, SpeechRecognition\n",
            "Successfully installed SpeechRecognition-3.10.0 pydub-0.25.1\n"
          ]
        }
      ]
    },
    {
      "cell_type": "code",
      "source": [
        "import speech_recognition as sr\n",
        "\n",
        "r = sr.Recognizer()\n",
        "filename = '/content/drive/MyDrive/AI/AUDIO/chap20.wav'\n",
        "with sr.AudioFile(filename) as source:\n",
        "  data = r.record(source)\n",
        "  # text = r.recognize_google(data)   # mặc định tiếng anh\n",
        "  text = r.recognize_google(data, language = 'ko')\n",
        "print(text)"
      ],
      "metadata": {
        "colab": {
          "base_uri": "https://localhost:8080/"
        },
        "id": "D9IQ5J5df9pW",
        "outputId": "483be9ae-a11a-4612-f0c6-1f9a93a0871c"
      },
      "execution_count": 21,
      "outputs": [
        {
          "output_type": "stream",
          "name": "stdout",
          "text": [
            "철수 씨가 어디에 있어요 아마 학교에서 공부 수업이 끝나지 않았어요 수업이 있어요 그 수업을 왜 선택했어요 예쁜 여자가 많기 때문에 선택했어요 씨가 어디에 있어요 아마 학교에서 공부해요 학교에 갔어요 수업이니 끝나지 않았어요 아니요 밤에도 수업이 있어요 철수 씨가 그 수업을 왜 선택했어요 그 수업에 예쁜 여자가 많기 때문에 선택했어요\n"
          ]
        }
      ]
    },
    {
      "cell_type": "code",
      "source": [
        "# language\n",
        "# dic=('afrikaans', 'af', 'albanian', 'sq', 'amharic', 'am',  'arabic', 'ar', 'armenian', 'hy', 'azerbaijani', 'az', 'basque', 'eu', 'belarusian', 'be', 'bengali', 'bn', 'bosnian',     'bs', 'bulgarian', 'bg', 'catalan', 'ca',  'cebuano', 'ceb', 'chichewa', 'ny', 'chinese(simplified)',  'zh-cn', 'chinese (traditional)', 'zh-tw',  'corsican', 'co', 'croatian', 'hr', 'czech', 'cs', 'danish',     'da', 'dutch', 'nl', 'english', 'en', 'esperanto',  'eo', 'estonian', 'et', 'filipino', 'tl', 'finnish', 'fi',  'french', 'fr', 'frisian', 'fy', 'galician', 'gl’,   'georgian', 'ka', 'german', 'de', 'greek', 'el', 'gujarati',      'gu', 'haitian creole', 'ht', 'hausa', 'ha',   'hawaiian', 'haw', 'hebrew', 'he', 'hindi', 'hi', 'hmong',  'hmn', 'hungarian', 'hu', 'icelandic', 'is', 'igbo’, 'ig', 'indonesian', 'id', 'irish', 'ga', 'italian', 'it', 'japanese', 'ja', 'javanese', 'jw', 'kannada', 'kn',  'kazakh', 'kk', 'khmer', 'km', 'korean', 'ko', 'kurdish (kurmanji)’, 'ku', 'kyrgyz', 'ky', 'lao', 'lo', 'latin', 'la', 'latvian', 'lv', 'lithuanian', 'lt', 'luxembourgish’,  'lb', 'macedonian', 'mk','malagasy’,  'mg', 'malay', 'ms', 'malayalam', 'ml', 'maltese', 'mt', 'maori’,  'mi', 'marathi', 'mr', 'mongolian', 'mn’, 'myanmar (burmese)', 'my', 'nepali', 'ne', 'norwegian', 'no’, 'odia', 'or', 'pashto', 'ps', 'persian’, 'fa', 'polish', 'pl', 'portuguese', 'pt', 'punjabi', 'pa’, 'romanian', 'ro', 'russian', 'ru', 'samoan’, 'sm', 'scots gaelic', 'gd', 'serbian', 'sr', 'sesotho', 'st', 'shona', 'sn', 'sindhi', 'sd', 'sinhala’, 'si', 'slovak', 'sk', 'slovenian', 'sl', 'somali', 'so', 'spanish', 'es', 'sundanese', 'su', 'swahili', 'sw', 'swedish', 'sv', 'tajik', 'tg', 'tamil’, 'ta', 'telugu', 'te', 'thai', 'th', 'turkish', 'tr’, 'ukrainian', 'uk', 'urdu', 'ur', 'uyghur', 'ug', 'uzbek', 'uz', 'vietnamese', 'vi', 'welsh', 'cy', 'xhosa', 'xh’, 'yiddish', 'yi', 'yoruba', 'yo', 'zulu', 'zu')"
      ],
      "metadata": {
        "id": "iGS2sX1Lh1rN"
      },
      "execution_count": 5,
      "outputs": []
    },
    {
      "cell_type": "code",
      "source": [
        "# cắt đoạn nhạc\n",
        "\n",
        "import speech_recognition as sr\n",
        "r = sr.Recognizer()\n",
        "test = sr.AudioFile('/content/drive/MyDrive/AI/AUDIO/chap20.wav')\n",
        "with test as source:\n",
        "  audio = r.record(source, offset = 40, duration = 46)\n",
        "  text = r.recognize_google(audio, language = 'ko')\n",
        "print(text)"
      ],
      "metadata": {
        "colab": {
          "base_uri": "https://localhost:8080/"
        },
        "id": "3T7Zb19Zk0sS",
        "outputId": "061e5ebd-51c5-4b67-91f3-39c5b0739d0b"
      },
      "execution_count": 33,
      "outputs": [
        {
          "output_type": "stream",
          "name": "stdout",
          "text": [
            "그 수업에 예쁜 여자가 많기 때문에 선택했어요\n"
          ]
        }
      ]
    },
    {
      "cell_type": "code",
      "source": [
        "import os\n",
        "import speech_recognition as sr\n",
        "\n",
        "commandwav = \"ffmpeg -i henemolanyeuthu2.mp3 henemolanyeuthu2.wav\"\n",
        "os.system(commandwav)\n",
        "\n",
        "r = sr.Recognizer()\n",
        "audiovn = 'henemolanyeuthu2.wav'\n",
        "with sr.AudioFile(audiovn) as source:\n",
        "  data = r.record(source)\n",
        "  text = r.recognize_google(data, language = 'vi')\n",
        "print(text)"
      ],
      "metadata": {
        "colab": {
          "base_uri": "https://localhost:8080/"
        },
        "id": "w4k8UFcErbEj",
        "outputId": "7e3e2208-6c9c-4258-ae41-368959a24539"
      },
      "execution_count": 54,
      "outputs": [
        {
          "output_type": "stream",
          "name": "stdout",
          "text": [
            "anh phải làm gì để em đừng nghĩ em không quan trọng hết đắng cay vào trong năm cuộc đời anh như con giữa cha mẹ và vất vả đêm ngủ trăng tròn phận làm con chữ hiếu chưa tròn anh phải bù lại trong em bao nhiêu đến em chẳng còn thời tiết tại Thành làm cho nhau nhưng còn bên đấy có phải Ngay lúc đầu em đã chẳng trọn đời anh vẫn muốn ngày thành công sẽ được che chở em còn anh với ngày thứ ba đã có thể yên tâm dày sao Em có qua những thắng\n"
          ]
        }
      ]
    },
    {
      "cell_type": "code",
      "source": [
        "import speech_recognition as sr\n",
        "r = sr.Recognizer()\n",
        "test = sr.AudioFile('henemolanyeuthu2.wav')\n",
        "with test as source:\n",
        "  audio = r.record(source, offset = 0, duration = 6)\n",
        "  text = r.recognize_google(audio, language = 'vi')\n",
        "print(text)"
      ],
      "metadata": {
        "colab": {
          "base_uri": "https://localhost:8080/"
        },
        "id": "oZRN5TAPsuaI",
        "outputId": "ff6946bb-2a41-4d64-c3b0-147d19456866"
      },
      "execution_count": 44,
      "outputs": [
        {
          "output_type": "stream",
          "name": "stdout",
          "text": [
            "anh phải làm gì để em đừng nghĩ em không quan trọng\n"
          ]
        }
      ]
    },
    {
      "cell_type": "code",
      "source": [
        "import speech_recognition as sr\n",
        "\n",
        "r = sr.Recognizer()\n",
        "test = sr.AudioFile('/content/drive/MyDrive/AI/AUDIO/vtvnews.wav')\n",
        "with test as source:\n",
        "  audio = r.record(source, offset = 0, duration = 10)\n",
        "  text = r.recognize_google(audio, language = 'vi')\n",
        "print(text)"
      ],
      "metadata": {
        "colab": {
          "base_uri": "https://localhost:8080/"
        },
        "id": "KwncqAi8vKWD",
        "outputId": "1ca441a5-a8a9-43a4-ec15-fd77d1cb9b14"
      },
      "execution_count": 87,
      "outputs": [
        {
          "output_type": "stream",
          "name": "stdout",
          "text": [
            "thiết lập các kênh tại thành phố vô địch Euro của Brazil có cách này nó cứ bị thấy là lập đầy rác thải sinh hoạt do con người thải ra 01\n"
          ]
        }
      ]
    },
    {
      "cell_type": "code",
      "source": [
        "pip install gTTS"
      ],
      "metadata": {
        "colab": {
          "base_uri": "https://localhost:8080/"
        },
        "id": "Sp7LBz4-zNfi",
        "outputId": "32a32ebd-a572-4bc3-ca72-9cbd3b03abfb"
      },
      "execution_count": 57,
      "outputs": [
        {
          "output_type": "stream",
          "name": "stdout",
          "text": [
            "Looking in indexes: https://pypi.org/simple, https://us-python.pkg.dev/colab-wheels/public/simple/\n",
            "Collecting gTTS\n",
            "  Downloading gTTS-2.3.2-py3-none-any.whl (28 kB)\n",
            "Requirement already satisfied: requests<3,>=2.27 in /usr/local/lib/python3.9/dist-packages (from gTTS) (2.27.1)\n",
            "Requirement already satisfied: click<8.2,>=7.1 in /usr/local/lib/python3.9/dist-packages (from gTTS) (8.1.3)\n",
            "Requirement already satisfied: charset-normalizer~=2.0.0 in /usr/local/lib/python3.9/dist-packages (from requests<3,>=2.27->gTTS) (2.0.12)\n",
            "Requirement already satisfied: urllib3<1.27,>=1.21.1 in /usr/local/lib/python3.9/dist-packages (from requests<3,>=2.27->gTTS) (1.26.15)\n",
            "Requirement already satisfied: certifi>=2017.4.17 in /usr/local/lib/python3.9/dist-packages (from requests<3,>=2.27->gTTS) (2022.12.7)\n",
            "Requirement already satisfied: idna<4,>=2.5 in /usr/local/lib/python3.9/dist-packages (from requests<3,>=2.27->gTTS) (3.4)\n",
            "Installing collected packages: gTTS\n",
            "Successfully installed gTTS-2.3.2\n"
          ]
        }
      ]
    },
    {
      "cell_type": "code",
      "source": [
        "from gtts import gTTS\n",
        "import os\n",
        "\n",
        "A = 'Hello! My name is Nam\\\n",
        "    Today, I wanna tell you about my favorite place\\\n",
        "    It’s named “Da Lat” city\\\n",
        "    I want to go there in the summer because Da Lat has a lot of flowers at the time\\\n",
        "    Such as sunflowers, Lavender flowers\\\n",
        "    Da Lat is called the city of love\\\n",
        "    It is very beautiful in the sunset\\\n",
        "    I want to go to Da Lat with my friends\\\n",
        "    We can walk around the lake, watch the sunrise\\\n",
        "    I love it most because Da Lat has a cool climate, many flowers and pine forest\\\n",
        "    creating a romantic and poetic\\\n",
        "    Thanks for watching!'\n",
        "\n",
        "speak = gTTS(text = A, lang = 'en', slow = False)\n",
        "speak.save('favorite_place.mp3')"
      ],
      "metadata": {
        "id": "b6IjjWlwza8v"
      },
      "execution_count": 76,
      "outputs": []
    },
    {
      "cell_type": "code",
      "source": [
        "# playsound('favorite_place.mp3')\n",
        "# os.remove('favorite_place.mp3')"
      ],
      "metadata": {
        "id": "mXsb1rYj1OPP"
      },
      "execution_count": 80,
      "outputs": []
    },
    {
      "cell_type": "code",
      "source": [
        "pip install googletrans==3.1.0a0"
      ],
      "metadata": {
        "colab": {
          "base_uri": "https://localhost:8080/",
          "height": 956
        },
        "id": "qojl7Yp81bnC",
        "outputId": "819e1e95-1feb-471f-be24-501fc425750e"
      },
      "execution_count": 81,
      "outputs": [
        {
          "output_type": "stream",
          "name": "stdout",
          "text": [
            "Looking in indexes: https://pypi.org/simple, https://us-python.pkg.dev/colab-wheels/public/simple/\n",
            "Collecting googletrans==3.1.0a0\n",
            "  Downloading googletrans-3.1.0a0.tar.gz (19 kB)\n",
            "  Preparing metadata (setup.py) ... \u001b[?25l\u001b[?25hdone\n",
            "Collecting httpx==0.13.3\n",
            "  Downloading httpx-0.13.3-py3-none-any.whl (55 kB)\n",
            "\u001b[2K     \u001b[90m━━━━━━━━━━━━━━━━━━━━━━━━━━━━━━━━━━━━━━━━\u001b[0m \u001b[32m55.1/55.1 kB\u001b[0m \u001b[31m6.9 MB/s\u001b[0m eta \u001b[36m0:00:00\u001b[0m\n",
            "\u001b[?25hRequirement already satisfied: certifi in /usr/local/lib/python3.9/dist-packages (from httpx==0.13.3->googletrans==3.1.0a0) (2022.12.7)\n",
            "Collecting idna==2.*\n",
            "  Downloading idna-2.10-py2.py3-none-any.whl (58 kB)\n",
            "\u001b[2K     \u001b[90m━━━━━━━━━━━━━━━━━━━━━━━━━━━━━━━━━━━━━━━━\u001b[0m \u001b[32m58.8/58.8 kB\u001b[0m \u001b[31m7.8 MB/s\u001b[0m eta \u001b[36m0:00:00\u001b[0m\n",
            "\u001b[?25hCollecting chardet==3.*\n",
            "  Downloading chardet-3.0.4-py2.py3-none-any.whl (133 kB)\n",
            "\u001b[2K     \u001b[90m━━━━━━━━━━━━━━━━━━━━━━━━━━━━━━━━━━━━━━\u001b[0m \u001b[32m133.4/133.4 kB\u001b[0m \u001b[31m18.7 MB/s\u001b[0m eta \u001b[36m0:00:00\u001b[0m\n",
            "\u001b[?25hRequirement already satisfied: sniffio in /usr/local/lib/python3.9/dist-packages (from httpx==0.13.3->googletrans==3.1.0a0) (1.3.0)\n",
            "Collecting httpcore==0.9.*\n",
            "  Downloading httpcore-0.9.1-py3-none-any.whl (42 kB)\n",
            "\u001b[2K     \u001b[90m━━━━━━━━━━━━━━━━━━━━━━━━━━━━━━━━━━━━━━━━\u001b[0m \u001b[32m42.6/42.6 kB\u001b[0m \u001b[31m5.6 MB/s\u001b[0m eta \u001b[36m0:00:00\u001b[0m\n",
            "\u001b[?25hCollecting hstspreload\n",
            "  Downloading hstspreload-2023.1.1-py3-none-any.whl (1.5 MB)\n",
            "\u001b[2K     \u001b[90m━━━━━━━━━━━━━━━━━━━━━━━━━━━━━━━━━━━━━━━━\u001b[0m \u001b[32m1.5/1.5 MB\u001b[0m \u001b[31m79.7 MB/s\u001b[0m eta \u001b[36m0:00:00\u001b[0m\n",
            "\u001b[?25hCollecting rfc3986<2,>=1.3\n",
            "  Downloading rfc3986-1.5.0-py2.py3-none-any.whl (31 kB)\n",
            "Collecting h2==3.*\n",
            "  Downloading h2-3.2.0-py2.py3-none-any.whl (65 kB)\n",
            "\u001b[2K     \u001b[90m━━━━━━━━━━━━━━━━━━━━━━━━━━━━━━━━━━━━━━━━\u001b[0m \u001b[32m65.0/65.0 kB\u001b[0m \u001b[31m8.4 MB/s\u001b[0m eta \u001b[36m0:00:00\u001b[0m\n",
            "\u001b[?25hCollecting h11<0.10,>=0.8\n",
            "  Downloading h11-0.9.0-py2.py3-none-any.whl (53 kB)\n",
            "\u001b[2K     \u001b[90m━━━━━━━━━━━━━━━━━━━━━━━━━━━━━━━━━━━━━━━━\u001b[0m \u001b[32m53.6/53.6 kB\u001b[0m \u001b[31m7.7 MB/s\u001b[0m eta \u001b[36m0:00:00\u001b[0m\n",
            "\u001b[?25hCollecting hpack<4,>=3.0\n",
            "  Downloading hpack-3.0.0-py2.py3-none-any.whl (38 kB)\n",
            "Collecting hyperframe<6,>=5.2.0\n",
            "  Downloading hyperframe-5.2.0-py2.py3-none-any.whl (12 kB)\n",
            "Building wheels for collected packages: googletrans\n",
            "  Building wheel for googletrans (setup.py) ... \u001b[?25l\u001b[?25hdone\n",
            "  Created wheel for googletrans: filename=googletrans-3.1.0a0-py3-none-any.whl size=16368 sha256=2cb07cfbf41ce8c4f2cecf242186f3a3f0c6e98ca14aa94e08aeaae4105bf49c\n",
            "  Stored in directory: /root/.cache/pip/wheels/ae/e1/6c/5137bc3f35aa130deea71575e165cc4f4f0680a88f3d90a636\n",
            "Successfully built googletrans\n",
            "Installing collected packages: rfc3986, hyperframe, hpack, h11, chardet, idna, hstspreload, h2, httpcore, httpx, googletrans\n",
            "  Attempting uninstall: chardet\n",
            "    Found existing installation: chardet 4.0.0\n",
            "    Uninstalling chardet-4.0.0:\n",
            "      Successfully uninstalled chardet-4.0.0\n",
            "  Attempting uninstall: idna\n",
            "    Found existing installation: idna 3.4\n",
            "    Uninstalling idna-3.4:\n",
            "      Successfully uninstalled idna-3.4\n",
            "Successfully installed chardet-3.0.4 googletrans-3.1.0a0 h11-0.9.0 h2-3.2.0 hpack-3.0.0 hstspreload-2023.1.1 httpcore-0.9.1 httpx-0.13.3 hyperframe-5.2.0 idna-2.10 rfc3986-1.5.0\n"
          ]
        },
        {
          "output_type": "display_data",
          "data": {
            "application/vnd.colab-display-data+json": {
              "pip_warning": {
                "packages": [
                  "chardet",
                  "idna"
                ]
              }
            }
          },
          "metadata": {}
        }
      ]
    },
    {
      "cell_type": "code",
      "source": [
        "from googletrans import Translator\n",
        "\n",
        "translator = Translator()\n",
        "translation = translator.translate('Lá lành đùm lá rách', dest = 'en')\n",
        "print(translation.text)"
      ],
      "metadata": {
        "colab": {
          "base_uri": "https://localhost:8080/"
        },
        "id": "yjg6-RPc362Y",
        "outputId": "e2a9281e-06a8-40cf-b033-f19d5eb20b70"
      },
      "execution_count": 82,
      "outputs": [
        {
          "output_type": "stream",
          "name": "stdout",
          "text": [
            "Good leaves cover torn leaves\n"
          ]
        }
      ]
    },
    {
      "cell_type": "code",
      "source": [
        "text = 'Hello everyone, i am Nam.\\\n",
        "        Today i will introduce you to my house.\\\n",
        "        I have lived in a house with my parents when I was born.\\\n",
        "        It is located near industrial zones.\\\n",
        "        My house looks very pretty with blue wall.\\\n",
        "        This is my living room.\\\n",
        "        It  has a television, tables and chairs.\\\n",
        "        The kitchen is small but it is very convenient.\\\n",
        "        Behind my house, there is a garden.\\\n",
        "        My father planted some trees.\\\n",
        "        In addition, he also raises a bird.\\\n",
        "        Finally, we will come to my bedroom.\\\n",
        "        In my room, there is a laptop, some books, a fan, some pillows and blankets.\\\n",
        "        I really like my room because I can do everything I like while I’m there.\\\n",
        "        For example, play games, listen to music, read books …\\\n",
        "        To me, my house is a place where I feel the best in the world.'\n",
        "translator = Translator()\n",
        "translation = translator.translate(text, dest = 'vi')\n",
        "print(translation.text)"
      ],
      "metadata": {
        "colab": {
          "base_uri": "https://localhost:8080/"
        },
        "id": "kFcJHfgP4neb",
        "outputId": "a798d159-4d36-40a7-b204-d9ce4ac35ab1"
      },
      "execution_count": 86,
      "outputs": [
        {
          "output_type": "stream",
          "name": "stdout",
          "text": [
            "Xin chào mọi người, tôi là Nam. Hôm nay tôi sẽ giới thiệu với các bạn về ngôi nhà của tôi. Tôi đã sống trong một ngôi nhà với bố mẹ tôi khi tôi được sinh ra. Nó nằm gần các khu công nghiệp. Ngôi nhà của tôi trông rất đẹp với bức tường màu xanh. Đây là phòng khách của tôi. Nó có một chiếc tivi, bàn ghế. Căn bếp tuy nhỏ nhưng rất tiện dụng. Đằng sau ngôi nhà của tôi, có một khu vườn. Cha tôi đã trồng một số cây. Ngoài ra, anh còn nuôi một con chim. Cuối cùng, chúng tôi sẽ đến phòng ngủ của tôi. Trong phòng của tôi, có một máy tính xách tay, một số cuốn sách, một cái quạt, một số gối và chăn. Tôi thực sự thích căn phòng của mình vì tôi có thể làm mọi thứ mình thích khi ở đó. Ví dụ như chơi game, nghe nhạc, đọc sách… Với tôi, ngôi nhà của tôi là nơi mà tôi cảm thấy tuyệt vời nhất trên đời.\n"
          ]
        }
      ]
    },
    {
      "cell_type": "code",
      "source": [
        "### .wav->text->translate->.mp3\n",
        "\n",
        "# Đoạn trích bài phát biểu của một sinh viên đại học Thanh Hoa về tầm quan trọng của AI (file'min.wav')\n",
        "\n",
        "import speech_recognition as sr\n",
        "r = sr.Recognizer()\n",
        "test = sr.AudioFile('/content/drive/MyDrive/AI/AUDIO/min.wav')\n",
        "with test as source:\n",
        "  audio = r.record(source, offset = 0, duration = 12)\n",
        "  text = r.recognize_google(audio, language = 'en')\n",
        "print(text)"
      ],
      "metadata": {
        "colab": {
          "base_uri": "https://localhost:8080/"
        },
        "id": "jdivS-2n51zz",
        "outputId": "0b3aebb8-fd7e-462f-a821-7981f0214e78"
      },
      "execution_count": 93,
      "outputs": [
        {
          "output_type": "stream",
          "name": "stdout",
          "text": [
            "we can always improve technology which humanitarian care we can enhance the security of network by introducing Quantum cryptography\n"
          ]
        }
      ]
    },
    {
      "cell_type": "code",
      "source": [
        "from googletrans import Translator\n",
        "\n",
        "text1 = 'We can always improve technology which humanitarian care.\\\n",
        "        We can enhance the security of network by introducing Quantum cryptography.'\n",
        "\n",
        "translator = Translator()\n",
        "translation = translator.translate(text1, dest = 'vi')\n",
        "print(translation.text)"
      ],
      "metadata": {
        "colab": {
          "base_uri": "https://localhost:8080/"
        },
        "id": "eIv8VDEU-kvq",
        "outputId": "f2545686-937e-4e58-cda1-bb7464e73745"
      },
      "execution_count": 97,
      "outputs": [
        {
          "output_type": "stream",
          "name": "stdout",
          "text": [
            "Chúng tôi luôn có thể cải tiến công nghệ chăm sóc nhân đạo. Chúng tôi có thể nâng cao tính bảo mật của mạng bằng cách giới thiệu mật mã lượng tử.\n"
          ]
        }
      ]
    },
    {
      "cell_type": "code",
      "source": [
        "from gtts import gTTS\n",
        "import os\n",
        "\n",
        "phatbieu = 'Chúng tôi luôn có thể cải tiến công nghệ chăm sóc nhân đạo.\\\n",
        "            Chúng tôi có thể nâng cao tính bảo mật của mạng bằng cách giới thiệu mật mã lượng tử.'\n",
        "\n",
        "speak = gTTS(text = translation.text, lang = 'vi', slow = False)\n",
        "speak.save('phatbieuAI.mp3')"
      ],
      "metadata": {
        "id": "7ng1Xwtx_O4v"
      },
      "execution_count": 114,
      "outputs": []
    },
    {
      "cell_type": "code",
      "source": [
        "# OCR\n",
        "!pip install pytesseract\n",
        "!sudo apt install tesseract-ocr"
      ],
      "metadata": {
        "colab": {
          "base_uri": "https://localhost:8080/"
        },
        "id": "duHX9Pca_6_V",
        "outputId": "47dc7b52-712b-4387-b710-d1d197c41764"
      },
      "execution_count": 98,
      "outputs": [
        {
          "output_type": "stream",
          "name": "stdout",
          "text": [
            "Looking in indexes: https://pypi.org/simple, https://us-python.pkg.dev/colab-wheels/public/simple/\n",
            "Collecting pytesseract\n",
            "  Downloading pytesseract-0.3.10-py3-none-any.whl (14 kB)\n",
            "Requirement already satisfied: packaging>=21.3 in /usr/local/lib/python3.9/dist-packages (from pytesseract) (23.1)\n",
            "Requirement already satisfied: Pillow>=8.0.0 in /usr/local/lib/python3.9/dist-packages (from pytesseract) (8.4.0)\n",
            "Installing collected packages: pytesseract\n",
            "Successfully installed pytesseract-0.3.10\n",
            "Reading package lists... Done\n",
            "Building dependency tree       \n",
            "Reading state information... Done\n",
            "The following additional packages will be installed:\n",
            "  tesseract-ocr-eng tesseract-ocr-osd\n",
            "The following NEW packages will be installed:\n",
            "  tesseract-ocr tesseract-ocr-eng tesseract-ocr-osd\n",
            "0 upgraded, 3 newly installed, 0 to remove and 24 not upgraded.\n",
            "Need to get 4,850 kB of archives.\n",
            "After this operation, 16.3 MB of additional disk space will be used.\n",
            "Get:1 http://archive.ubuntu.com/ubuntu focal/universe amd64 tesseract-ocr-eng all 1:4.00~git30-7274cfa-1 [1,598 kB]\n",
            "Get:2 http://archive.ubuntu.com/ubuntu focal/universe amd64 tesseract-ocr-osd all 1:4.00~git30-7274cfa-1 [2,990 kB]\n",
            "Get:3 http://archive.ubuntu.com/ubuntu focal/universe amd64 tesseract-ocr amd64 4.1.1-2build2 [262 kB]\n",
            "Fetched 4,850 kB in 2s (2,298 kB/s)\n",
            "debconf: unable to initialize frontend: Dialog\n",
            "debconf: (No usable dialog-like program is installed, so the dialog based frontend cannot be used. at /usr/share/perl5/Debconf/FrontEnd/Dialog.pm line 76, <> line 3.)\n",
            "debconf: falling back to frontend: Readline\n",
            "debconf: unable to initialize frontend: Readline\n",
            "debconf: (This frontend requires a controlling tty.)\n",
            "debconf: falling back to frontend: Teletype\n",
            "dpkg-preconfigure: unable to re-open stdin: \n",
            "Selecting previously unselected package tesseract-ocr-eng.\n",
            "(Reading database ... 122400 files and directories currently installed.)\n",
            "Preparing to unpack .../tesseract-ocr-eng_1%3a4.00~git30-7274cfa-1_all.deb ...\n",
            "Unpacking tesseract-ocr-eng (1:4.00~git30-7274cfa-1) ...\n",
            "Selecting previously unselected package tesseract-ocr-osd.\n",
            "Preparing to unpack .../tesseract-ocr-osd_1%3a4.00~git30-7274cfa-1_all.deb ...\n",
            "Unpacking tesseract-ocr-osd (1:4.00~git30-7274cfa-1) ...\n",
            "Selecting previously unselected package tesseract-ocr.\n",
            "Preparing to unpack .../tesseract-ocr_4.1.1-2build2_amd64.deb ...\n",
            "Unpacking tesseract-ocr (4.1.1-2build2) ...\n",
            "Setting up tesseract-ocr-eng (1:4.00~git30-7274cfa-1) ...\n",
            "Setting up tesseract-ocr-osd (1:4.00~git30-7274cfa-1) ...\n",
            "Setting up tesseract-ocr (4.1.1-2build2) ...\n",
            "Processing triggers for man-db (2.9.1-1) ...\n"
          ]
        }
      ]
    },
    {
      "cell_type": "code",
      "source": [
        "from PIL import Image\n",
        "import pytesseract\n",
        "import numpy as np\n",
        "import matplotlib.pyplot as plt\n",
        "\n",
        "filename = '/content/drive/MyDrive/AI/OCR/maxim_of_life.jpg'\n",
        "img = plt.imread(filename)\n",
        "plt.imshow(img)\n",
        "plt.show()\n",
        "img1 = np.array(Image.open(filename))\n",
        "text = pytesseract.image_to_string(img1)\n",
        "print(text)"
      ],
      "metadata": {
        "colab": {
          "base_uri": "https://localhost:8080/",
          "height": 482
        },
        "id": "y5zj-ZU6AJyQ",
        "outputId": "3e32bee7-8001-4a19-f8fa-a0a725d0a20c"
      },
      "execution_count": 101,
      "outputs": [
        {
          "output_type": "display_data",
          "data": {
            "text/plain": [
              "<Figure size 640x480 with 1 Axes>"
            ],
            "image/png": "[encoded data removed]"
          },
          "metadata": {}
        },
        {
          "output_type": "stream",
          "name": "stdout",
          "text": [
            " \n",
            "\n",
            "WHEN WORK IS A PLEASURE, LIFE IS A JOY!\n",
            "WHEN WORK IS A DUTY, LIFE IS SLAVERY.\n",
            "\n",
            "~ MAXIM GORKY -\n",
            "\n",
            "LIBQUOTES.COM\n",
            "\f\n"
          ]
        }
      ]
    },
    {
      "cell_type": "code",
      "source": [
        "from pytesseract import Output\n",
        "import pytesseract\n",
        "import cv2\n",
        "\n",
        "results = pytesseract.image_to_data(img1, output_type = Output.DICT)\n",
        "print(results)"
      ],
      "metadata": {
        "colab": {
          "base_uri": "https://localhost:8080/"
        },
        "id": "yNSamWGPB1ZC",
        "outputId": "baa5a960-3a03-4f8f-9a91-7d35ba9794cd"
      },
      "execution_count": 102,
      "outputs": [
        {
          "output_type": "stream",
          "name": "stdout",
          "text": [
            "{'level': [1, 2, 3, 4, 5, 2, 3, 4, 5, 5, 5, 5, 5, 5, 5, 5, 5, 4, 5, 5, 5, 5, 5, 5, 5, 5, 2, 3, 4, 5, 5, 5, 5, 2, 3, 4, 5], 'page_num': [1, 1, 1, 1, 1, 1, 1, 1, 1, 1, 1, 1, 1, 1, 1, 1, 1, 1, 1, 1, 1, 1, 1, 1, 1, 1, 1, 1, 1, 1, 1, 1, 1, 1, 1, 1, 1], 'block_num': [0, 1, 1, 1, 1, 2, 2, 2, 2, 2, 2, 2, 2, 2, 2, 2, 2, 2, 2, 2, 2, 2, 2, 2, 2, 2, 3, 3, 3, 3, 3, 3, 3, 4, 4, 4, 4], 'par_num': [0, 0, 1, 1, 1, 0, 1, 1, 1, 1, 1, 1, 1, 1, 1, 1, 1, 1, 1, 1, 1, 1, 1, 1, 1, 1, 0, 1, 1, 1, 1, 1, 1, 0, 1, 1, 1], 'line_num': [0, 0, 0, 1, 1, 0, 0, 1, 1, 1, 1, 1, 1, 1, 1, 1, 1, 2, 2, 2, 2, 2, 2, 2, 2, 2, 0, 0, 1, 1, 1, 1, 1, 0, 0, 1, 1], 'word_num': [0, 0, 0, 0, 1, 0, 0, 0, 1, 2, 3, 4, 5, 6, 7, 8, 9, 0, 1, 2, 3, 4, 5, 6, 7, 8, 0, 0, 0, 1, 2, 3, 4, 0, 0, 0, 1], 'left': [0, 1148, 1148, 1148, 1148, 153, 153, 153, 153, 291, 431, 481, 522, 758, 861, 911, 949, 173, 173, 311, 451, 501, 542, 675, 777, 832, 453, 453, 453, 453, 477, 606, 730, 1023, 1023, 1023, 1023], 'top': [0, 0, 0, 0, 0, 220, 220, 220, 220, 223, 223, 224, 223, 224, 223, 224, 220, 293, 293, 296, 296, 297, 297, 297, 296, 296, 384, 384, 384, 400, 384, 384, 400, 600, 600, 600, 600], 'width': [1200, 52, 52, 52, 52, 886, 886, 886, 124, 123, 36, 28, 219, 87, 37, 28, 90, 845, 124, 123, 36, 28, 116, 86, 37, 186, 287, 287, 287, 10, 115, 113, 10, 156, 156, 156, 156], 'height': [630, 50, 50, 50, 50, 120, 120, 47, 44, 40, 41, 38, 44, 40, 41, 39, 44, 47, 43, 40, 40, 39, 43, 39, 40, 40, 36, 36, 36, 3, 35, 36, 3, 18, 18, 18, 18], 'conf': [-1, -1, -1, -1, 95, -1, -1, -1, 96, 96, 96, 96, 93, 96, 94, 93, 93, -1, 96, 96, 93, 95, 95, 95, 93, 95, -1, -1, -1, 30, 93, 92, 93, -1, -1, -1, 92], 'text': ['', '', '', '', ' ', '', '', '', 'WHEN', 'WORK', 'IS', 'A', 'PLEASURE,', 'LIFE', 'IS', 'A', 'JOY!', '', 'WHEN', 'WORK', 'IS', 'A', 'DUTY,', 'LIFE', 'IS', 'SLAVERY.', '', '', '', '~', 'MAXIM', 'GORKY', '-', '', '', '', 'LIBQUOTES.COM']}\n"
          ]
        }
      ]
    },
    {
      "cell_type": "code",
      "source": [
        "for i in range(0,len(results['text'])):\n",
        "  x = results['left'][i]\n",
        "  y = results['top'][i]\n",
        "  w = results['width'][i]\n",
        "  h = results['height'][i]\n",
        "  text = results['text'][i]\n",
        "  conf = int(results['conf'][i])\n",
        "  if conf > 70:\n",
        "    text = ''.join([c if ord(c)<128 else '' for c in text]).strip()\n",
        "    cv2.rectangle(img1,(x,y),(x+w,y+h),(1, 41, 136),2)\n",
        "    cv2.putText(img1,text,(x,y-10),cv2.FONT_HERSHEY_SIMPLEX,0.5,(0,0,200),2)\n",
        "plt.imshow(img1)"
      ],
      "metadata": {
        "colab": {
          "base_uri": "https://localhost:8080/",
          "height": 343
        },
        "id": "s3eKzCTnDimN",
        "outputId": "d55b2398-8f2a-4254-e240-562d58f7c23d"
      },
      "execution_count": 110,
      "outputs": [
        {
          "output_type": "execute_result",
          "data": {
            "text/plain": [
              "<matplotlib.image.AxesImage at 0x7f4c4c41b6d0>"
            ]
          },
          "metadata": {},
          "execution_count": 110
        },
        {
          "output_type": "display_data",
          "data": {
            "text/plain": [
              "<Figure size 640x480 with 1 Axes>"
            ],
            "image/png": "[encoded data removed]"
          },
          "metadata": {}
        }
      ]
    },
    {
      "cell_type": "code",
      "source": [],
      "metadata": {
        "id": "-nC9NuecGXyp"
      },
      "execution_count": null,
      "outputs": []
    }
  ]
}