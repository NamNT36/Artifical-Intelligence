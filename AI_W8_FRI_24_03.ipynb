{
  "nbformat": 4,
  "nbformat_minor": 0,
  "metadata": {
    "colab": {
      "provenance": [],
      "authorship_tag": "ABX9TyNTwBehORTx68YKE6dKBSo6",
      "include_colab_link": true
    },
    "kernelspec": {
      "name": "python3",
      "display_name": "Python 3"
    },
    "language_info": {
      "name": "python"
    }
  },
  "cells": [
    {
      "cell_type": "markdown",
      "metadata": {
        "id": "view-in-github",
        "colab_type": "text"
      },
      "source": [
        "<a href=\"https://colab.research.google.com/github/NamNT36/Artifical-Intelligence/blob/main/AI_W8_FRI_24_03.ipynb\" target=\"_parent\"><img src=\"https://colab.research.google.com/assets/colab-badge.svg\" alt=\"Open In Colab\"/></a>"
      ]
    },
    {
      "cell_type": "code",
      "execution_count": 1,
      "metadata": {
        "id": "4varJf7UQbmi"
      },
      "outputs": [],
      "source": [
        "### ANN (Artifiicial Neural Network)\n",
        "# Các Input Layer sử dụng các trọng số (Weight) truyền tín hiệu đến Output Layer"
      ]
    },
    {
      "cell_type": "code",
      "source": [
        "from sklearn.linear_model import Perceptron\n",
        "\n",
        "x = [[0,0],[1,0],[0,1],[1,1]]\n",
        "y = [0,1,1,1]\n",
        "\n",
        "model = Perceptron()\n",
        "model.fit(x,y)\n",
        "model.score(x,y)"
      ],
      "metadata": {
        "colab": {
          "base_uri": "https://localhost:8080/"
        },
        "id": "O8shQ6cmXUBx",
        "outputId": "dabe9879-0231-4dce-a123-2fda1d32b15e"
      },
      "execution_count": 2,
      "outputs": [
        {
          "output_type": "execute_result",
          "data": {
            "text/plain": [
              "1.0"
            ]
          },
          "metadata": {},
          "execution_count": 2
        }
      ]
    },
    {
      "cell_type": "code",
      "source": [
        "x1 = [[-0.5,-0.5],[10,-2],[-1,0.8],[3,5],[1,0.2],[-0.1,0.5],[0.5,0],[0.6,0],[0.7,0]]\n",
        "y1 = model.predict(x1)\n",
        "print(y1)\n",
        "model.score(x1,y1)"
      ],
      "metadata": {
        "colab": {
          "base_uri": "https://localhost:8080/"
        },
        "id": "OwgKpcmMYMO9",
        "outputId": "52b7aab3-7997-4e69-cb06-d3a970fccf78"
      },
      "execution_count": 3,
      "outputs": [
        {
          "output_type": "stream",
          "name": "stdout",
          "text": [
            "[0 1 0 1 1 0 0 1 1]\n"
          ]
        },
        {
          "output_type": "execute_result",
          "data": {
            "text/plain": [
              "1.0"
            ]
          },
          "metadata": {},
          "execution_count": 3
        }
      ]
    },
    {
      "cell_type": "code",
      "source": [
        "# Iris: 4 tín hiệu vào (chiều dài, chiều rộng cánh hoa; chiều dài, chiều rộng nhị hoa)\n",
        "# 1 tín hiệu ra (là 1 trong 3 loại hoa lan) (sử dụng One hot encoding -> 3bit)\n",
        "# 0->Setosa\n",
        "# 1->Versicolor\n",
        "# 2->Virginica"
      ],
      "metadata": {
        "id": "OH3rfrRmbNVS"
      },
      "execution_count": 4,
      "outputs": []
    },
    {
      "cell_type": "code",
      "source": [
        "from sklearn import datasets\n",
        "from sklearn.linear_model import Perceptron\n",
        "from sklearn.model_selection import train_test_split  \n",
        "from sklearn.metrics import accuracy_score\n",
        "from sklearn.preprocessing import StandardScaler  #Chuẩn hóa dữ liệu\n",
        "\n",
        "iris = datasets.load_iris()\n",
        "X = iris.data\n",
        "y = iris.target\n",
        "print(X[100:110])\n",
        "print(y[100:110])\n",
        "X_train, X_test, y_train, y_test = train_test_split(X,y,test_size = 0.3)  #test=30% -> train=70%\n",
        "sc = StandardScaler()\n",
        "sc.fit(X_train)\n",
        "X_train_std = sc.transform(X_train)\n",
        "X_test_std = sc.transform(X_test)"
      ],
      "metadata": {
        "colab": {
          "base_uri": "https://localhost:8080/"
        },
        "id": "VNSfIyusevXZ",
        "outputId": "c20f47c1-9211-4de1-80da-4303447fa95a"
      },
      "execution_count": 5,
      "outputs": [
        {
          "output_type": "stream",
          "name": "stdout",
          "text": [
            "[[6.3 3.3 6.  2.5]\n",
            " [5.8 2.7 5.1 1.9]\n",
            " [7.1 3.  5.9 2.1]\n",
            " [6.3 2.9 5.6 1.8]\n",
            " [6.5 3.  5.8 2.2]\n",
            " [7.6 3.  6.6 2.1]\n",
            " [4.9 2.5 4.5 1.7]\n",
            " [7.3 2.9 6.3 1.8]\n",
            " [6.7 2.5 5.8 1.8]\n",
            " [7.2 3.6 6.1 2.5]]\n",
            "[2 2 2 2 2 2 2 2 2 2]\n"
          ]
        }
      ]
    },
    {
      "cell_type": "code",
      "source": [
        "model = Perceptron(max_iter=40,eta0=0.1,random_state=0) #max_iter: số lần học, eta0: tốc độ học (0->1), random_state: lấy ngẫu nhiên dữ liệu\n",
        "model.fit(X_train_std,y_train)\n",
        "y_pred = model.predict(X_test_std)\n",
        "print(y_pred)\n",
        "print(y_test)\n",
        "print('Độ chính xác của mô hình: ',accuracy_score(y_test,y_pred)) #Độ chính xác của test\n",
        "#Độ chính xác của học cao hơn độ chính xác của test"
      ],
      "metadata": {
        "colab": {
          "base_uri": "https://localhost:8080/"
        },
        "id": "OEI_M2aMhEFd",
        "outputId": "4d3b30ae-0577-41f8-b55e-dfda0bc2e01c"
      },
      "execution_count": 6,
      "outputs": [
        {
          "output_type": "stream",
          "name": "stdout",
          "text": [
            "[2 0 2 2 2 2 2 0 0 2 1 1 2 2 2 0 1 1 0 0 1 0 0 1 0 0 0 2 2 1 1 2 0 2 2 2 0\n",
            " 0 2 1 1 0 2 0 2]\n",
            "[2 0 2 2 2 2 1 0 0 1 1 1 2 2 2 0 1 1 0 0 2 0 0 1 1 0 0 2 2 2 1 2 0 2 2 2 1\n",
            " 0 2 1 1 1 2 0 2]\n",
            "Độ chính xác của mô hình:  0.8444444444444444\n"
          ]
        }
      ]
    },
    {
      "cell_type": "code",
      "source": [
        "# Load library\n",
        "import pandas as pd \n",
        "import numpy as np\n",
        "\n",
        "# Create URL \n",
        "url = 'crabs.csv'\n",
        "\n",
        "# Load data\n",
        "data = pd.read_csv(url)\n",
        "\n",
        "data.head()\n",
        "\n",
        "correlation = data.corr()\n",
        "print(correlation)"
      ],
      "metadata": {
        "colab": {
          "base_uri": "https://localhost:8080/"
        },
        "id": "77EoH854kVA9",
        "outputId": "dafcab55-db0e-414c-f3fb-e33f912bfce1"
      },
      "execution_count": 8,
      "outputs": [
        {
          "output_type": "stream",
          "name": "stdout",
          "text": [
            "              index  fontallip  rearwidth    length     width     depth\n",
            "index      1.000000   0.862876   0.840040  0.911436  0.928248  0.864459\n",
            "fontallip  0.862876   1.000000   0.906988  0.978842  0.964956  0.987627\n",
            "rearwidth  0.840040   0.906988   1.000000  0.892743  0.900402  0.889205\n",
            "length     0.911436   0.978842   0.892743  1.000000  0.995023  0.983204\n",
            "width      0.928248   0.964956   0.900402  0.995023  1.000000  0.967812\n",
            "depth      0.864459   0.987627   0.889205  0.983204  0.967812  1.000000\n"
          ]
        }
      ]
    },
    {
      "cell_type": "code",
      "source": [
        "#Loài\n",
        "data.speies = data.speies.apply(lambda x: x.replace(\"O\", \"1\"))\n",
        "data.speies = data.speies.apply(lambda x: x.replace(\"B\", \"0\"))\n",
        "\n",
        "#Giới tính\n",
        "data.sex = data.sex.apply(lambda x: x.replace(\"M\", \"1\"))\n",
        "data.sex = data.sex.apply(lambda x: x.replace(\"F\", \"0\"))\n",
        "\n",
        "print(data)"
      ],
      "metadata": {
        "colab": {
          "base_uri": "https://localhost:8080/"
        },
        "id": "aol8rJ_VmFjt",
        "outputId": "bd442416-4646-44c5-a4fa-9ef144002dc1"
      },
      "execution_count": 9,
      "outputs": [
        {
          "output_type": "stream",
          "name": "stdout",
          "text": [
            "    speies sex  index  fontallip  rearwidth  length  width  depth\n",
            "0        0   1      1        8.1        6.7    16.1   19.0    7.0\n",
            "1        0   1      2        8.8        7.7    18.1   20.8    7.4\n",
            "2        0   1      3        9.2        7.8    19.0   22.4    7.7\n",
            "3        0   1      4        9.6        7.9    20.1   23.1    8.2\n",
            "4        0   1      5        9.8        8.0    20.3   23.0    8.2\n",
            "..     ...  ..    ...        ...        ...     ...    ...    ...\n",
            "195      1   0     46       21.4       18.0    41.2   46.2   18.7\n",
            "196      1   0     47       21.7       17.1    41.7   47.2   19.6\n",
            "197      1   0     48       21.9       17.2    42.6   47.4   19.5\n",
            "198      1   0     49       22.5       17.2    43.0   48.7   19.8\n",
            "199      1   0     50       23.1       20.2    46.2   52.5   21.1\n",
            "\n",
            "[200 rows x 8 columns]\n"
          ]
        }
      ]
    },
    {
      "cell_type": "code",
      "source": [
        "x = data.drop(['sex'], axis = 1).replace(['F','M','B','O'],[0,1,0,1])\n",
        "print(x[:5])\n",
        "print(x[:5])\n",
        "y = data.drop(['speies','index','fontallip','rearwidth','length','width','depth'], axis =1).replace(['F','M','B','O'],[0,1,0,1])\n",
        "print(X[:5])\n",
        "print(y[:5])\n",
        "### Có scale\n",
        "x_train, x_test, y_train, y_test = train_test_split(x,y,test_size = 0.3)  #test=30% -> train=70%\n",
        "sc = StandardScaler()\n",
        "sc.fit(x_train)\n",
        "x_train_std = sc.transform(x_train)\n",
        "x_test_std = sc.transform(x_test)\n",
        "model = Perceptron(max_iter=10000,eta0=0.01,random_state=0) #max_iter: số lần học, eta0: tốc độ học (0->1), random_state: lấy ngẫu nhiên dữ liệu\n",
        "model.fit(x_train_std,y_train)\n",
        "y_pred = model.predict(x_test_std)\n",
        "print(y_pred)\n",
        "print(y_test)\n",
        "print('Độ chính xác của mô hình: ',accuracy_score(y_test,y_pred))"
      ],
      "metadata": {
        "colab": {
          "base_uri": "https://localhost:8080/"
        },
        "id": "W0xRwercstK2",
        "outputId": "52c64cb5-6e33-408e-8dd1-f1a979c0841e"
      },
      "execution_count": 14,
      "outputs": [
        {
          "output_type": "stream",
          "name": "stdout",
          "text": [
            "  speies  index  fontallip  rearwidth  length  width  depth\n",
            "0      0      1        8.1        6.7    16.1   19.0    7.0\n",
            "1      0      2        8.8        7.7    18.1   20.8    7.4\n",
            "2      0      3        9.2        7.8    19.0   22.4    7.7\n",
            "3      0      4        9.6        7.9    20.1   23.1    8.2\n",
            "4      0      5        9.8        8.0    20.3   23.0    8.2\n",
            "  speies  index  fontallip  rearwidth  length  width  depth\n",
            "0      0      1        8.1        6.7    16.1   19.0    7.0\n",
            "1      0      2        8.8        7.7    18.1   20.8    7.4\n",
            "2      0      3        9.2        7.8    19.0   22.4    7.7\n",
            "3      0      4        9.6        7.9    20.1   23.1    8.2\n",
            "4      0      5        9.8        8.0    20.3   23.0    8.2\n",
            "[[5.1 3.5 1.4 0.2]\n",
            " [4.9 3.  1.4 0.2]\n",
            " [4.7 3.2 1.3 0.2]\n",
            " [4.6 3.1 1.5 0.2]\n",
            " [5.  3.6 1.4 0.2]]\n",
            "  sex\n",
            "0   1\n",
            "1   1\n",
            "2   1\n",
            "3   1\n",
            "4   1\n",
            "['1' '0' '0' '1' '1' '0' '1' '1' '0' '1' '1' '0' '0' '0' '1' '1' '0' '1'\n",
            " '0' '1' '0' '1' '1' '1' '1' '0' '0' '1' '1' '1' '1' '1' '0' '0' '0' '0'\n",
            " '0' '1' '1' '1' '1' '0' '0' '0' '0' '1' '1' '0' '1' '1' '0' '0' '1' '0'\n",
            " '1' '1' '1' '1' '1' '1']\n",
            "    sex\n",
            "108   1\n",
            "85    0\n",
            "167   0\n",
            "32    1\n",
            "121   1\n",
            "82    0\n",
            "151   0\n",
            "41    1\n",
            "157   0\n",
            "35    1\n",
            "1     1\n",
            "74    0\n",
            "175   0\n",
            "172   0\n",
            "116   1\n",
            "54    0\n",
            "193   0\n",
            "100   1\n",
            "91    0\n",
            "111   1\n",
            "174   0\n",
            "140   1\n",
            "149   1\n",
            "28    1\n",
            "160   0\n",
            "90    0\n",
            "164   0\n",
            "26    1\n",
            "130   1\n",
            "49    1\n",
            "9     1\n",
            "107   1\n",
            "86    0\n",
            "87    0\n",
            "88    0\n",
            "187   0\n",
            "188   0\n",
            "138   1\n",
            "142   1\n",
            "31    1\n",
            "128   1\n",
            "95    0\n",
            "67    0\n",
            "56    0\n",
            "64    0\n",
            "42    1\n",
            "110   1\n",
            "162   0\n",
            "113   1\n",
            "109   1\n",
            "170   0\n",
            "89    0\n",
            "17    1\n",
            "75    0\n",
            "132   1\n",
            "53    0\n",
            "148   1\n",
            "129   1\n",
            "131   1\n",
            "124   1\n",
            "Độ chính xác của mô hình:  0.9333333333333333\n"
          ]
        },
        {
          "output_type": "stream",
          "name": "stderr",
          "text": [
            "/usr/local/lib/python3.9/dist-packages/sklearn/utils/validation.py:1143: DataConversionWarning: A column-vector y was passed when a 1d array was expected. Please change the shape of y to (n_samples, ), for example using ravel().\n",
            "  y = column_or_1d(y, warn=True)\n"
          ]
        }
      ]
    },
    {
      "cell_type": "code",
      "source": [
        "### Trường hợp không có scale (bỏ _std)\n",
        "x_train, x_test, y_train, y_test = train_test_split(x,y,test_size = 0.3)  #test=30% -> train=70%\n",
        "sc = StandardScaler()\n",
        "sc.fit(x_train)\n",
        "x_train = sc.transform(x_train)\n",
        "x_test = sc.transform(x_test)\n",
        "model = Perceptron(max_iter=1000,eta0=0.2,random_state=0) #max_iter: số lần học, eta0: tốc độ học (0->1), random_state: lấy ngẫu nhiên dữ liệu\n",
        "model.fit(x_train,y_train)\n",
        "y_pred = model.predict(x_test)\n",
        "print(y_pred)\n",
        "print(y_test)\n",
        "print('Độ chính xác của mô hình: ',accuracy_score(y_test,y_pred))"
      ],
      "metadata": {
        "id": "3gjfClfqtXfE",
        "colab": {
          "base_uri": "https://localhost:8080/"
        },
        "outputId": "9de40b84-58a1-4cda-a73e-860984d1a402"
      },
      "execution_count": 19,
      "outputs": [
        {
          "output_type": "stream",
          "name": "stdout",
          "text": [
            "['1' '0' '0' '0' '0' '0' '1' '0' '1' '0' '1' '1' '0' '1' '0' '1' '1' '1'\n",
            " '1' '1' '0' '0' '1' '1' '1' '1' '0' '1' '0' '1' '1' '0' '1' '1' '0' '0'\n",
            " '1' '0' '1' '1' '0' '0' '1' '1' '1' '1' '0' '0' '0' '1' '1' '1' '0' '0'\n",
            " '1' '0' '1' '1' '0' '0']\n",
            "    sex\n",
            "20    1\n",
            "91    0\n",
            "168   0\n",
            "199   0\n",
            "77    0\n",
            "179   0\n",
            "138   1\n",
            "87    0\n",
            "36    1\n",
            "60    0\n",
            "106   1\n",
            "108   1\n",
            "178   0\n",
            "1     1\n",
            "183   0\n",
            "133   1\n",
            "26    1\n",
            "53    0\n",
            "43    1\n",
            "48    1\n",
            "166   0\n",
            "165   0\n",
            "144   1\n",
            "19    1\n",
            "107   1\n",
            "143   1\n",
            "193   0\n",
            "50    0\n",
            "94    0\n",
            "5     1\n",
            "2     1\n",
            "155   0\n",
            "136   1\n",
            "30    1\n",
            "169   0\n",
            "174   0\n",
            "59    0\n",
            "172   0\n",
            "110   1\n",
            "13    1\n",
            "58    0\n",
            "95    0\n",
            "23    1\n",
            "120   1\n",
            "38    1\n",
            "101   1\n",
            "167   0\n",
            "56    0\n",
            "164   0\n",
            "130   1\n",
            "127   1\n",
            "116   1\n",
            "71    0\n",
            "182   0\n",
            "24    1\n",
            "88    0\n",
            "124   1\n",
            "7     1\n",
            "97    0\n",
            "92    0\n",
            "Độ chính xác của mô hình:  0.95\n"
          ]
        },
        {
          "output_type": "stream",
          "name": "stderr",
          "text": [
            "/usr/local/lib/python3.9/dist-packages/sklearn/utils/validation.py:1143: DataConversionWarning: A column-vector y was passed when a 1d array was expected. Please change the shape of y to (n_samples, ), for example using ravel().\n",
            "  y = column_or_1d(y, warn=True)\n"
          ]
        }
      ]
    },
    {
      "cell_type": "code",
      "source": [],
      "metadata": {
        "id": "KkaTMX1FErUW"
      },
      "execution_count": null,
      "outputs": []
    }
  ]
}