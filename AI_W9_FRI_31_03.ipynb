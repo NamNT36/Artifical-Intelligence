{
  "nbformat": 4,
  "nbformat_minor": 0,
  "metadata": {
    "colab": {
      "provenance": [],
      "authorship_tag": "ABX9TyMsFeJQVwzPGnskJjNTztu1",
      "include_colab_link": true
    },
    "kernelspec": {
      "name": "python3",
      "display_name": "Python 3"
    },
    "language_info": {
      "name": "python"
    }
  },
  "cells": [
    {
      "cell_type": "markdown",
      "metadata": {
        "id": "view-in-github",
        "colab_type": "text"
      },
      "source": [
        "<a href=\"https://colab.research.google.com/github/NamNT36/Artifical-Intelligence/blob/main/AI_W9_FRI_31_03.ipynb\" target=\"_parent\"><img src=\"https://colab.research.google.com/assets/colab-badge.svg\" alt=\"Open In Colab\"/></a>"
      ]
    },
    {
      "cell_type": "code",
      "execution_count": null,
      "metadata": {
        "colab": {
          "base_uri": "https://localhost:8080/"
        },
        "id": "Yu-1eDfAQfRE",
        "outputId": "823fd2ba-cbb9-4743-d3f4-3bd22e6542d1"
      },
      "outputs": [
        {
          "output_type": "stream",
          "name": "stdout",
          "text": [
            "Downloading data from https://storage.googleapis.com/tensorflow/tf-keras-datasets/mnist.npz\n",
            "11490434/11490434 [==============================] - 0s 0us/step\n"
          ]
        },
        {
          "output_type": "execute_result",
          "data": {
            "text/plain": [
              "(60000, 28, 28)"
            ]
          },
          "metadata": {},
          "execution_count": 1
        }
      ],
      "source": [
        "from keras.datasets import mnist  #mnist là tập dữ liệu chữ số viết tay \n",
        "(train_images, train_labels), (test_images, test_labels) = mnist.load_data()\n",
        "train_images.shape\n",
        "### (...28,28): số lượng kích thước ảnh 28x28"
      ]
    },
    {
      "cell_type": "code",
      "source": [
        "test_images.shape"
      ],
      "metadata": {
        "colab": {
          "base_uri": "https://localhost:8080/"
        },
        "id": "LIdwfk3zR4tI",
        "outputId": "c9c68106-232c-4035-b3bc-1bab168ac9eb"
      },
      "execution_count": null,
      "outputs": [
        {
          "output_type": "execute_result",
          "data": {
            "text/plain": [
              "(10000, 28, 28)"
            ]
          },
          "metadata": {},
          "execution_count": 2
        }
      ]
    },
    {
      "cell_type": "code",
      "source": [
        "train_labels.shape"
      ],
      "metadata": {
        "colab": {
          "base_uri": "https://localhost:8080/"
        },
        "id": "vX7vgGAVS3OZ",
        "outputId": "816efe30-3ea7-4157-be56-6e3cd9af1257"
      },
      "execution_count": null,
      "outputs": [
        {
          "output_type": "execute_result",
          "data": {
            "text/plain": [
              "(60000,)"
            ]
          },
          "metadata": {},
          "execution_count": 3
        }
      ]
    },
    {
      "cell_type": "code",
      "source": [
        "test_labels.shape"
      ],
      "metadata": {
        "colab": {
          "base_uri": "https://localhost:8080/"
        },
        "id": "GXqQj2DTTBae",
        "outputId": "20bee5ac-a1c6-4b42-8b5c-1480ab1601de"
      },
      "execution_count": null,
      "outputs": [
        {
          "output_type": "execute_result",
          "data": {
            "text/plain": [
              "(10000,)"
            ]
          },
          "metadata": {},
          "execution_count": 4
        }
      ]
    },
    {
      "cell_type": "code",
      "source": [
        "digit = train_images[0]\n",
        "import matplotlib.pyplot as plt\n",
        "plt.imshow(digit)\n",
        "plt.show\n",
        "print('Số này là: ', train_labels[0])"
      ],
      "metadata": {
        "colab": {
          "base_uri": "https://localhost:8080/",
          "height": 447
        },
        "id": "LK4YtKsmTI13",
        "outputId": "78c8fc5f-0fdd-4e2e-e9a0-f35d770c1675"
      },
      "execution_count": null,
      "outputs": [
        {
          "output_type": "stream",
          "name": "stdout",
          "text": [
            "Số này là:  5\n"
          ]
        },
        {
          "output_type": "display_data",
          "data": {
            "text/plain": [
              "<Figure size 640x480 with 1 Axes>"
            ],
            "image/png": "[encoded data removed]"
          },
          "metadata": {}
        }
      ]
    },
    {
      "cell_type": "code",
      "source": [
        "for i in range(10):\n",
        "  plt.subplot(3,5,i+1)\n",
        "  plt.tight_layout\n",
        "  plt.imshow(train_images[i],cmap='gray',\n",
        "             interpolation='none')\n",
        "  plt.title('Số này là:{}'.format(train_labels[i]))\n",
        "  plt.xticks([])\n",
        "  plt.yticks([])"
      ],
      "metadata": {
        "colab": {
          "base_uri": "https://localhost:8080/",
          "height": 276
        },
        "id": "j0eQhgALUDHm",
        "outputId": "3c5827fd-ccf9-4582-f4fb-36f674e93cf3"
      },
      "execution_count": null,
      "outputs": [
        {
          "output_type": "display_data",
          "data": {
            "text/plain": [
              "<Figure size 640x480 with 10 Axes>"
            ],
            "image/png": "[encoded data removed]"
          },
          "metadata": {}
        }
      ]
    },
    {
      "cell_type": "code",
      "source": [
        "from keras.models import Sequential   #Sequential mô tả ANN theo thuần tự\n",
        "                                      #các lớp kế tiếp liên tục nhau\n",
        "from keras.layers import Dense        #Dense=full_connected (sự kết nối đầy đủ)\n",
        "\n",
        "model = Sequential()\n",
        "model.add(Dense(512,activation='relu',input_shape=(28*28,)))\n",
        "#512 noron là output đồng thời là input nên không cần khai báo nũa\n",
        "model.add(Dense(10,activation='softmax'))\n",
        "model.summary()"
      ],
      "metadata": {
        "colab": {
          "base_uri": "https://localhost:8080/"
        },
        "id": "d2k2Ea_uVTH2",
        "outputId": "edfa6920-6b77-40bd-c033-7d903b3928fd"
      },
      "execution_count": null,
      "outputs": [
        {
          "output_type": "stream",
          "name": "stdout",
          "text": [
            "Model: \"sequential\"\n",
            "_________________________________________________________________\n",
            " Layer (type)                Output Shape              Param #   \n",
            "=================================================================\n",
            " dense (Dense)               (None, 512)               401920    \n",
            "                                                                 \n",
            " dense_1 (Dense)             (None, 10)                5130      \n",
            "                                                                 \n",
            "=================================================================\n",
            "Total params: 407,050\n",
            "Trainable params: 407,050\n",
            "Non-trainable params: 0\n",
            "_________________________________________________________________\n"
          ]
        }
      ]
    },
    {
      "cell_type": "code",
      "source": [
        "train_images = train_images.reshape((60000,28*28))  #chỉnh lại kích thước số dữ liệu đầu vào \n",
        "train_images = train_images.astype('float32')/255   #chuyển qua float để có thể chia được (dữ liệu từ 0->1)\n",
        "\n",
        "test_images = test_images.reshape((10000,28*28))  \n",
        "test_images = test_images.astype('float32')/255\n",
        "\n",
        "print(train_images.shape)\n",
        "print(test_images.shape)"
      ],
      "metadata": {
        "colab": {
          "base_uri": "https://localhost:8080/"
        },
        "id": "jGMlnptdbJ0L",
        "outputId": "39c9eb5e-e55d-46fc-8de1-5834ec16f021"
      },
      "execution_count": null,
      "outputs": [
        {
          "output_type": "stream",
          "name": "stdout",
          "text": [
            "(60000, 784)\n",
            "(10000, 784)\n"
          ]
        }
      ]
    },
    {
      "cell_type": "markdown",
      "source": [],
      "metadata": {
        "id": "jw9Dk-08lsKr"
      }
    },
    {
      "cell_type": "code",
      "source": [
        "from keras.utils import to_categorical    #to_categorical: chuyển từ 1 bit thành nhiều bit đầu ra \n",
        "train_labels = to_categorical(train_labels,10)  #từ 1 bit thành 10 bit\n",
        "test_labels = to_categorical(test_labels,10)\n",
        "\n",
        "print(train_labels.shape)"
      ],
      "metadata": {
        "colab": {
          "base_uri": "https://localhost:8080/"
        },
        "id": "-1Y3Lsq-cvN3",
        "outputId": "c4ada404-56ec-4e49-a371-16a94fca7b30"
      },
      "execution_count": null,
      "outputs": [
        {
          "output_type": "stream",
          "name": "stdout",
          "text": [
            "(60000, 10)\n"
          ]
        }
      ]
    },
    {
      "cell_type": "code",
      "source": [
        "print(test_labels.shape)"
      ],
      "metadata": {
        "colab": {
          "base_uri": "https://localhost:8080/"
        },
        "id": "S8yGVd7md_ZM",
        "outputId": "bb2f4f60-c480-4a55-f634-7fefd7cb0a6d"
      },
      "execution_count": null,
      "outputs": [
        {
          "output_type": "stream",
          "name": "stdout",
          "text": [
            "(10000, 10)\n"
          ]
        }
      ]
    },
    {
      "cell_type": "code",
      "source": [
        "model.compile(optimizer='rmsprop',loss='categorical_crossentropy',  #Đánh giá sự mất mát (loss)\n",
        "              metrics=['accuracy']) #Đo lường độ chính xác (metrics)\n",
        "model.fit(train_images,train_labels,epochs=20,batch_size=128)   #20 lần học, mỗi lần học 128 lần ngẫu nhiên\n",
        "test_loss, test_acc = model.evaluate(test_images,test_labels)\n",
        "print('Độ mất mát: ',test_loss)\n",
        "print('Độ chính xác: ',test_acc)\n",
        "#X = test_images\n",
        "#Y = test_labels"
      ],
      "metadata": {
        "colab": {
          "base_uri": "https://localhost:8080/"
        },
        "id": "iBYgkXz_e31D",
        "outputId": "6fcbfa23-318b-470a-8556-c589a3dc8faa"
      },
      "execution_count": null,
      "outputs": [
        {
          "output_type": "stream",
          "name": "stdout",
          "text": [
            "Epoch 1/20\n",
            "469/469 [==============================] - 14s 26ms/step - loss: 0.2665 - accuracy: 0.9228\n",
            "Epoch 2/20\n",
            "469/469 [==============================] - 7s 16ms/step - loss: 0.1089 - accuracy: 0.9680\n",
            "Epoch 3/20\n",
            "469/469 [==============================] - 4s 9ms/step - loss: 0.0710 - accuracy: 0.9791\n",
            "Epoch 4/20\n",
            "469/469 [==============================] - 5s 11ms/step - loss: 0.0516 - accuracy: 0.9844\n",
            "Epoch 5/20\n",
            "469/469 [==============================] - 5s 10ms/step - loss: 0.0379 - accuracy: 0.9891\n",
            "Epoch 6/20\n",
            "469/469 [==============================] - 4s 8ms/step - loss: 0.0296 - accuracy: 0.9916\n",
            "Epoch 7/20\n",
            "469/469 [==============================] - 4s 8ms/step - loss: 0.0219 - accuracy: 0.9938\n",
            "Epoch 8/20\n",
            "469/469 [==============================] - 5s 10ms/step - loss: 0.0168 - accuracy: 0.9954\n",
            "Epoch 9/20\n",
            "469/469 [==============================] - 4s 8ms/step - loss: 0.0132 - accuracy: 0.9964\n",
            "Epoch 10/20\n",
            "469/469 [==============================] - 4s 8ms/step - loss: 0.0097 - accuracy: 0.9977\n",
            "Epoch 11/20\n",
            "469/469 [==============================] - 5s 10ms/step - loss: 0.0071 - accuracy: 0.9986\n",
            "Epoch 12/20\n",
            "469/469 [==============================] - 4s 8ms/step - loss: 0.0053 - accuracy: 0.9988\n",
            "Epoch 13/20\n",
            "469/469 [==============================] - 4s 8ms/step - loss: 0.0041 - accuracy: 0.9992\n",
            "Epoch 14/20\n",
            "469/469 [==============================] - 4s 9ms/step - loss: 0.0024 - accuracy: 0.9997\n",
            "Epoch 15/20\n",
            "469/469 [==============================] - 4s 9ms/step - loss: 0.0018 - accuracy: 0.9998\n",
            "Epoch 16/20\n",
            "469/469 [==============================] - 4s 8ms/step - loss: 0.0012 - accuracy: 0.9999\n",
            "Epoch 17/20\n",
            "469/469 [==============================] - 4s 9ms/step - loss: 7.2223e-04 - accuracy: 1.0000\n",
            "Epoch 18/20\n",
            "469/469 [==============================] - 4s 9ms/step - loss: 5.3535e-04 - accuracy: 1.0000\n",
            "Epoch 19/20\n",
            "469/469 [==============================] - 4s 8ms/step - loss: 4.2687e-04 - accuracy: 1.0000\n",
            "Epoch 20/20\n",
            "469/469 [==============================] - 4s 8ms/step - loss: 3.3062e-04 - accuracy: 1.0000\n",
            "313/313 [==============================] - 1s 3ms/step - loss: 0.0659 - accuracy: 0.9841\n",
            "Độ mất mát:  0.06587950140237808\n",
            "Độ chính xác:  0.9840999841690063\n"
          ]
        }
      ]
    },
    {
      "cell_type": "code",
      "source": [],
      "metadata": {
        "id": "C6qYejaGmGts"
      },
      "execution_count": null,
      "outputs": []
    }
  ]
}